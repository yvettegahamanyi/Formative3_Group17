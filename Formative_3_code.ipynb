{
  "nbformat": 4,
  "nbformat_minor": 0,
  "metadata": {
    "colab": {
      "provenance": []
    },
    "kernelspec": {
      "name": "python3",
      "display_name": "Python 3"
    },
    "language_info": {
      "name": "python"
    }
  },
  "cells": [
    {
      "cell_type": "markdown",
      "source": [
        "# 2- Bayesian Princible\n",
        "\n",
        "The Bayesian principle is a principle that deals with  updating your belief about an uncertain event based on new evidence. At its core, it  tells you how to revise probabilities when new data becomes available. bold text\n",
        "\n",
        "## In simple terms, the theorem states that:\n",
        "\n",
        "$$\n",
        "\\text{Posterior} = \\frac{\\text{Likelihood} \\times \\text{Prior}}{\\text{Evidence}}\n",
        "$$\n",
        "\n",
        "**Where:**\n",
        "\n",
        "     Prior: What you believed *before* seeing new evidence\n",
        "     Likelihood:  How likely the new evidence is *if* your belief were true    \n",
        "     Evidence: Overall chance of seeing this evidence (regardless of truth)\n",
        "     Posterior:   What you believe *after* seeing the evidence                 \n",
        "\n",
        "\n",
        "\n"
      ],
      "metadata": {
        "id": "LPnjQ_DE4Wjo"
      }
    },
    {
      "cell_type": "markdown",
      "source": [
        "**Scenario: Financial Fraud Detection using the Bayesian Principle**\n",
        "\n",
        "Fraud is rare but costly, and manually inspecting every transaction is impractical. To address this, banks use an **automated fraud detection** system that flags suspicious transactions based on behavioral patterns such as unexpected locations, unusually high amounts, or odd timing. As a **data scientist** at a bank, our role is to help detect **fraudulent credit card transactions**, those not authorized by the legitimate cardholder, amid the vast number of daily transactions."
      ],
      "metadata": {
        "id": "gIUMZCFd1zk1"
      }
    },
    {
      "cell_type": "code",
      "source": [],
      "metadata": {
        "id": "QSPe6ebOD6N9"
      },
      "execution_count": null,
      "outputs": []
    },
    {
      "cell_type": "markdown",
      "source": [
        "# Python Implementation"
      ],
      "metadata": {
        "id": "XTPpc5fi9xbs"
      }
    },
    {
      "cell_type": "code",
      "execution_count": null,
      "metadata": {
        "colab": {
          "base_uri": "https://localhost:8080/"
        },
        "id": "qekLgX1s0wz_",
        "outputId": "8ab31064-1f2a-4eac-b308-8a3f9a190102"
      },
      "outputs": [
        {
          "output_type": "stream",
          "name": "stdout",
          "text": [
            "Bayesian Fraud Detection\n",
            "--------------------------\n",
            "Prior P(Fraud): 0.00100\n",
            "Likelihood P(Flagged | Fraud): 0.98\n",
            "False Positive Rate P(Flagged | Legit): 0.01\n",
            "Total P(Flagged): 0.01097\n",
            "Posterior P(Fraud | Flagged): 0.08933\n"
          ]
        }
      ],
      "source": [
        "# Bayesian Fraud Detection\n",
        "\n",
        "# Step 1: Prior probabilities\n",
        "P_fraud = 0.001                  # P(Fraud)\n",
        "P_legit = 1 - P_fraud            # P(No Fraud)\n",
        "\n",
        "# Step 2: Likelihoods\n",
        "P_flag_given_fraud = 0.98        # P(Flagged | Fraud)\n",
        "P_flag_given_legit = 0.01        # P(Flagged | Legitimate)\n",
        "\n",
        "# Step 3: Evidence - total probability of being flagged\n",
        "P_flag = (P_flag_given_fraud * P_fraud) + (P_flag_given_legit * P_legit)\n",
        "\n",
        "# Step 4: Posterior - probability of fraud given flagged\n",
        "P_fraud_given_flag = (P_flag_given_fraud * P_fraud) / P_flag\n",
        "\n",
        "# Step 5: Print results\n",
        "print(\"Bayesian Fraud Detection\")\n",
        "print(\"--------------------------\")\n",
        "print(f\"Prior P(Fraud): {P_fraud:.5f}\")\n",
        "print(f\"Likelihood P(Flagged | Fraud): {P_flag_given_fraud:.2f}\")\n",
        "print(f\"False Positive Rate P(Flagged | Legit): {P_flag_given_legit:.2f}\")\n",
        "print(f\"Total P(Flagged): {P_flag:.5f}\")\n",
        "print(f\"Posterior P(Fraud | Flagged): {P_fraud_given_flag:.5f}\")\n"
      ]
    },
    {
      "cell_type": "markdown",
      "source": [
        "# Visualizing Prior vs Posterior"
      ],
      "metadata": {
        "id": "JVtSiAYi5RVH"
      }
    },
    {
      "cell_type": "code",
      "source": [
        "import matplotlib.pyplot as plt\n",
        "\n",
        "labels = ['P(Fraud)', 'P(Fraud | Flagged)']\n",
        "values = [P_fraud, P_fraud_given_flag]\n",
        "\n",
        "plt.bar(labels, values, color=['skyblue', 'salmon'])\n",
        "plt.title(\"Fraud Probability: Prior vs Posterior\")\n",
        "plt.ylabel(\"Probability\")\n",
        "plt.ylim(0, 0.12)\n",
        "plt.grid(True, linestyle='--', alpha=0.6)\n",
        "plt.show()\n"
      ],
      "metadata": {
        "colab": {
          "base_uri": "https://localhost:8080/",
          "height": 453
        },
        "id": "wpim3OhB4q_K",
        "outputId": "02956488-ab35-42c6-be34-664cbecfd158"
      },
      "execution_count": null,
      "outputs": [
        {
          "output_type": "display_data",
          "data": {
            "text/plain": [
              "<Figure size 640x480 with 1 Axes>"
            ],
            "image/png": "[encoded data removed]"
          },
          "metadata": {}
        }
      ]
    },
    {
      "cell_type": "markdown",
      "source": [
        "# Interpretation\n",
        "\n",
        "Even though the fraud detection system is highly accurate (98%), the actual probability that a flagged transaction is fraudulent is only ~8.93%.\n",
        "\n",
        "Why?\n",
        "Because:\n",
        "\n",
        "\n",
        "*   Fraud is extremely rare (only 0.1% of all transactions),\n",
        "*   And the false positives (1% of millions of legit transactions) dominate the flagged pool.\n",
        "\n",
        "\n"
      ],
      "metadata": {
        "id": "PDk8dzoW1DRt"
      }
    },
    {
      "cell_type": "markdown",
      "source": [
        "# Significance\n",
        "\n",
        "This insight affects how we design and use fraud detection systems:\n",
        "\n",
        "1. Don’t Trust Flags Blindly: A flag doesn’t mean it’s definitely fraud.\n",
        "Analysts should combine system flags with other evidence (customer profile, recent activity).\n",
        "\n",
        "2. Threshold Tuning: If the cost of false positives is high (e.g. blocking a legit user), you might raise the threshold for what gets flagged.\n",
        "\n",
        "3. Bayesian Updating:\n",
        "As more evidence becomes available (e.g., a second flag from a different model), we can recalculate the posterior—Bayesian inference allows this fluid updating.\n",
        "\n",
        "4. Cost-Aware Decision Making:\n",
        "We can use expected value analysis: weigh the cost of missing fraud vs the cost of annoying legit customers.\n",
        "\n",
        "In  Summary\n",
        "Bayes' probablity helps answer:\n",
        "\n",
        "**“Now that I’ve seen this, how should I revise my belief about that?”** Giving  us a **smart**, **mathematically**  and sound way to:\n",
        "Avoid false alarms, Quantify risk, and Support decisions with data\n"
      ],
      "metadata": {
        "id": "lgN7gnHt2zSN"
      }
    }
  ]
}